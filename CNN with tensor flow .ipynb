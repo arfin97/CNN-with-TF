{
 "cells": [
  {
   "cell_type": "code",
   "execution_count": 1,
   "metadata": {},
   "outputs": [],
   "source": [
    "import numpy as np\n",
    "import matplotlib.pyplot as plt\n",
    "import tensorflow as tf\n",
    "from tensorflow.examples.tutorials.mnist import input_data\n",
    "%matplotlib inline\n",
    "import os"
   ]
  },
  {
   "cell_type": "code",
   "execution_count": 3,
   "metadata": {},
   "outputs": [
    {
     "name": "stdout",
     "output_type": "stream",
     "text": [
      "Extracting data/fashion/train-images-idx3-ubyte.gz\n",
      "Extracting data/fashion/train-labels-idx1-ubyte.gz\n",
      "Extracting data/fashion/t10k-images-idx3-ubyte.gz\n",
      "Extracting data/fashion/t10k-labels-idx1-ubyte.gz\n"
     ]
    }
   ],
   "source": [
    "data = input_data.read_data_sets('data/fashion',one_hot=True)"
   ]
  },
  {
   "cell_type": "code",
   "execution_count": 4,
   "metadata": {},
   "outputs": [
    {
     "name": "stdout",
     "output_type": "stream",
     "text": [
      "Training set (images) shape: (55000, 784)\n",
      "Training set (labels) shape: (55000, 10)\n",
      "Test set (images) shape: (10000, 784)\n",
      "Test set (labels) shape: (10000, 10)\n"
     ]
    }
   ],
   "source": [
    "# Shapes of training set\n",
    "print(\"Training set (images) shape: {shape}\".format(shape=data.train.images.shape))\n",
    "print(\"Training set (labels) shape: {shape}\".format(shape=data.train.labels.shape))\n",
    "\n",
    "# Shapes of test set\n",
    "print(\"Test set (images) shape: {shape}\".format(shape=data.test.images.shape))\n",
    "print(\"Test set (labels) shape: {shape}\".format(shape=data.test.labels.shape))\n"
   ]
  },
  {
   "cell_type": "code",
   "execution_count": 5,
   "metadata": {},
   "outputs": [],
   "source": [
    "# Create dictionary of target classes\n",
    "label_dict = {\n",
    " 0: 'T-shirt/top',\n",
    " 1: 'Trouser',\n",
    " 2: 'Pullover',\n",
    " 3: 'Dress',\n",
    " 4: 'Coat',\n",
    " 5: 'Sandal',\n",
    " 6: 'Shirt',\n",
    " 7: 'Sneaker',\n",
    " 8: 'Bag',\n",
    " 9: 'Ankle boot',\n",
    "}"
   ]
  },
  {
   "cell_type": "code",
   "execution_count": 6,
   "metadata": {},
   "outputs": [
    {
     "data": {
      "text/plain": [
       "<matplotlib.text.Text at 0x7f18a6f77cf8>"
      ]
     },
     "execution_count": 6,
     "metadata": {},
     "output_type": "execute_result"
    },
    {
     "data": {
      "image/png": "[encoded data removed]",
      "text/plain": [
       "<matplotlib.figure.Figure at 0x7f18a727d128>"
      ]
     },
     "metadata": {},
     "output_type": "display_data"
    }
   ],
   "source": [
    "plt.figure(figsize=[5,5])\n",
    "\n",
    "# Display the first image in training data\n",
    "plt.subplot(121)\n",
    "curr_img = np.reshape(data.train.images[0], (28,28))\n",
    "curr_lbl = np.argmax(data.train.labels[0,:])\n",
    "plt.imshow(curr_img, cmap='gray')\n",
    "plt.title(\"(Label: \" + str(label_dict[curr_lbl]) + \")\")\n",
    "\n",
    "# Display the first image in testing data\n",
    "plt.subplot(122)\n",
    "curr_img = np.reshape(data.test.images[0], (28,28))\n",
    "curr_lbl = np.argmax(data.test.labels[0,:])\n",
    "plt.imshow(curr_img, cmap='gray')\n",
    "plt.title(\"(Label: \" + str(label_dict[curr_lbl]) + \")\")"
   ]
  },
  {
   "cell_type": "code",
   "execution_count": 7,
   "metadata": {},
   "outputs": [
    {
     "data": {
      "text/plain": [
       "array([ 0.        ,  0.        ,  0.        ,  0.        ,  0.        ,\n",
       "        0.        ,  0.        ,  0.        ,  0.        ,  0.        ,\n",
       "        0.        ,  0.        ,  0.        ,  0.        ,  0.        ,\n",
       "        0.        ,  0.        ,  0.        ,  0.        ,  0.00392157,\n",
       "        0.        ,  0.        ,  0.        ,  0.        ,  0.        ,\n",
       "        0.        ,  0.        ,  0.        ,  0.        ,  0.        ,\n",
       "        0.        ,  0.        ,  0.        ,  0.        ,  0.        ,\n",
       "        0.        ,  0.        ,  0.        ,  0.        ,  0.17254902,\n",
       "        0.49803925,  0.71372551,  0.72549021,  0.63137257,  0.47058827,\n",
       "        0.21568629,  0.        ,  0.        ,  0.        ,  0.        ,\n",
       "        0.        ,  0.        ,  0.        ,  0.        ,  0.        ,\n",
       "        0.        ,  0.        ,  0.        ,  0.        ,  0.        ,\n",
       "        0.        ,  0.        ,  0.        ,  0.        ,  0.        ,\n",
       "        0.16470589,  0.77647066,  0.98431379,  1.        ,  0.98431379,\n",
       "        0.97647065,  0.96862751,  1.        ,  0.98823535,  0.83921576,\n",
       "        0.3921569 ,  0.        ,  0.        ,  0.        ,  0.        ,\n",
       "        0.        ,  0.        ,  0.        ,  0.        ,  0.        ,\n",
       "        0.        ,  0.        ,  0.        ,  0.        ,  0.        ,\n",
       "        0.00784314,  0.        ,  0.        ,  0.91372555,  0.98823535,\n",
       "        0.92941183,  0.93725497,  0.91764712,  0.92941183,  0.92156869,\n",
       "        0.92941183,  0.92941183,  0.99607849,  0.89019614,  0.        ,\n",
       "        0.        ,  0.        ,  0.        ,  0.00392157,  0.        ,\n",
       "        0.        ,  0.        ,  0.        ,  0.        ,  0.        ,\n",
       "        0.        ,  0.        ,  0.00784314,  0.        ,  0.        ,\n",
       "        0.0627451 ,  0.82352948,  0.88235301,  0.84313732,  0.68627453,\n",
       "        0.85098046,  0.84705889,  0.75686282,  0.76862752,  0.88627458,\n",
       "        0.86666673,  0.81960791,  0.19607845,  0.        ,  0.        ,\n",
       "        0.00784314,  0.        ,  0.        ,  0.        ,  0.        ,\n",
       "        0.        ,  0.        ,  0.        ,  0.        ,  0.00784314,\n",
       "        0.        ,  0.        ,  0.78039223,  0.89803928,  0.90980399,\n",
       "        0.90196085,  0.96078438,  0.80000007,  0.8588236 ,  0.99215692,\n",
       "        0.96078438,  0.81176478,  0.76078439,  0.87450987,  0.90588242,\n",
       "        0.92549026,  0.92156869,  0.        ,  0.        ,  0.01176471,\n",
       "        0.        ,  0.        ,  0.        ,  0.        ,  0.        ,\n",
       "        0.        ,  0.        ,  0.00392157,  0.        ,  0.53725493,\n",
       "        0.92156869,  0.80000007,  0.81960791,  0.78823537,  0.81960791,\n",
       "        0.91764712,  0.74509805,  0.91764712,  0.85490203,  0.84313732,\n",
       "        0.9333334 ,  0.93725497,  0.80000007,  0.74117649,  0.87843144,\n",
       "        0.60392159,  0.        ,  0.        ,  0.        ,  0.        ,\n",
       "        0.        ,  0.        ,  0.        ,  0.        ,  0.        ,\n",
       "        0.        ,  0.        ,  0.76078439,  0.78823537,  0.7843138 ,\n",
       "        0.81960791,  0.79215693,  0.75686282,  0.80392164,  0.76078439,\n",
       "        0.71764708,  0.85490203,  0.90588242,  0.77254909,  0.67450982,\n",
       "        0.70980394,  0.75686282,  0.80392164,  0.78039223,  0.        ,\n",
       "        0.        ,  0.        ,  0.        ,  0.        ,  0.        ,\n",
       "        0.        ,  0.        ,  0.        ,  0.        ,  0.01176471,\n",
       "        0.83137262,  0.7960785 ,  0.73725492,  0.74117649,  0.76862752,\n",
       "        0.77647066,  0.77647066,  0.78823537,  0.76862752,  0.85098046,\n",
       "        0.7019608 ,  0.65490198,  0.71764708,  0.85098046,  0.77254909,\n",
       "        0.79215693,  0.8588236 ,  0.11764707,  0.        ,  0.        ,\n",
       "        0.        ,  0.        ,  0.        ,  0.        ,  0.        ,\n",
       "        0.        ,  0.        ,  0.13333334,  0.88235301,  0.7843138 ,\n",
       "        0.76078439,  0.74509805,  0.73725492,  0.75294125,  0.76862752,\n",
       "        0.75294125,  0.66666669,  0.79215693,  0.74509805,  0.78823537,\n",
       "        0.76470596,  0.7843138 ,  0.78823537,  0.81960791,  0.89019614,\n",
       "        0.19607845,  0.        ,  0.        ,  0.        ,  0.        ,\n",
       "        0.        ,  0.        ,  0.        ,  0.        ,  0.        ,\n",
       "        0.26666668,  0.88235301,  0.82352948,  0.82745105,  0.77647066,\n",
       "        0.75294125,  0.76862752,  0.80000007,  0.76862752,  0.70980394,\n",
       "        0.83137262,  0.77254909,  0.76470596,  0.75294125,  0.80784321,\n",
       "        0.86274517,  0.82352948,  0.89803928,  0.36470589,  0.        ,\n",
       "        0.        ,  0.        ,  0.        ,  0.        ,  0.        ,\n",
       "        0.        ,  0.        ,  0.        ,  0.43529415,  0.87450987,\n",
       "        0.89019614,  0.99215692,  0.81960791,  0.76862752,  0.80000007,\n",
       "        0.82745105,  0.80784321,  0.71764708,  0.84705889,  0.80784321,\n",
       "        0.82352948,  0.7960785 ,  0.84313732,  0.95686281,  0.87843144,\n",
       "        0.89019614,  0.58823532,  0.        ,  0.        ,  0.        ,\n",
       "        0.        ,  0.        ,  0.        ,  0.        ,  0.        ,\n",
       "        0.        ,  0.54509807,  0.88235301,  0.87843144,  1.        ,\n",
       "        0.79215693,  0.80784321,  0.83137262,  0.81960791,  0.82745105,\n",
       "        0.74509805,  0.83529419,  0.79215693,  0.81176478,  0.80784321,\n",
       "        0.8705883 ,  1.        ,  0.90196085,  0.86274517,  0.74509805,\n",
       "        0.        ,  0.        ,  0.        ,  0.        ,  0.        ,\n",
       "        0.        ,  0.        ,  0.        ,  0.        ,  0.70588237,\n",
       "        0.88627458,  0.87843144,  1.        ,  0.78039223,  0.80000007,\n",
       "        0.81176478,  0.83921576,  0.83921576,  0.74509805,  0.84705889,\n",
       "        0.80784321,  0.7960785 ,  0.80392164,  0.8588236 ,  0.95294124,\n",
       "        0.87843144,  0.83921576,  0.91764712,  0.        ,  0.        ,\n",
       "        0.        ,  0.        ,  0.        ,  0.        ,  0.        ,\n",
       "        0.        ,  0.        ,  0.88235301,  0.87450987,  0.89411771,\n",
       "        0.99607849,  0.81960791,  0.80784321,  0.81568635,  0.83529419,\n",
       "        0.82352948,  0.74901962,  0.84313732,  0.81176478,  0.80000007,\n",
       "        0.81568635,  0.82745105,  0.97647065,  0.88627458,  0.83921576,\n",
       "        1.        ,  0.14901961,  0.        ,  0.        ,  0.        ,\n",
       "        0.        ,  0.        ,  0.        ,  0.        ,  0.        ,\n",
       "        0.98039222,  0.90980399,  0.94117653,  0.93725497,  0.82745105,\n",
       "        0.7960785 ,  0.81960791,  0.80392164,  0.82745105,  0.77254909,\n",
       "        0.84313732,  0.81568635,  0.81568635,  0.83921576,  0.83529419,\n",
       "        0.93725497,  0.90588242,  0.8588236 ,  1.        ,  0.31764707,\n",
       "        0.        ,  0.        ,  0.        ,  0.        ,  0.        ,\n",
       "        0.        ,  0.        ,  0.        ,  0.97254908,  0.92549026,\n",
       "        0.96862751,  0.94117653,  0.7960785 ,  0.7843138 ,  0.81568635,\n",
       "        0.80784321,  0.83921576,  0.75686282,  0.83529419,  0.83137262,\n",
       "        0.81568635,  0.83137262,  0.82745105,  0.95294124,  0.94901967,\n",
       "        0.88235301,  0.99607849,  0.25882354,  0.        ,  0.        ,\n",
       "        0.        ,  0.        ,  0.        ,  0.        ,  0.        ,\n",
       "        0.        ,  0.96862751,  0.90196085,  0.98823535,  0.88627458,\n",
       "        0.78039223,  0.82745105,  0.79215693,  0.82745105,  0.83529419,\n",
       "        0.71372551,  0.83529419,  0.83137262,  0.80784321,  0.79215693,\n",
       "        0.8588236 ,  0.81176478,  0.96862751,  0.8705883 ,  0.92941183,\n",
       "        0.40784317,  0.        ,  0.        ,  0.        ,  0.        ,\n",
       "        0.        ,  0.        ,  0.        ,  0.03921569,  0.95686281,\n",
       "        0.8588236 ,  0.98039222,  0.80392164,  0.78039223,  0.81960791,\n",
       "        0.79215693,  0.81960791,  0.82745105,  0.74117649,  0.83921576,\n",
       "        0.80784321,  0.82352948,  0.7843138 ,  0.83137262,  0.60392159,\n",
       "        0.94117653,  0.81568635,  0.8588236 ,  0.54901963,  0.        ,\n",
       "        0.        ,  0.        ,  0.        ,  0.        ,  0.        ,\n",
       "        0.        ,  0.08235294,  1.        ,  0.8705883 ,  0.9333334 ,\n",
       "        0.72156864,  0.82352948,  0.75294125,  0.80784321,  0.81960791,\n",
       "        0.82352948,  0.74117649,  0.83529419,  0.82745105,  0.81960791,\n",
       "        0.75294125,  0.89411771,  0.60784316,  0.88627458,  0.9333334 ,\n",
       "        0.9450981 ,  0.65098041,  0.        ,  0.        ,  0.        ,\n",
       "        0.        ,  0.        ,  0.        ,  0.        ,  0.14509805,\n",
       "        0.96078438,  0.88627458,  0.9450981 ,  0.58823532,  0.77254909,\n",
       "        0.74117649,  0.80000007,  0.81960791,  0.82352948,  0.71764708,\n",
       "        0.83529419,  0.83529419,  0.78823537,  0.72156864,  0.84313732,\n",
       "        0.57254905,  0.84705889,  0.92549026,  0.88235301,  0.60392159,\n",
       "        0.        ,  0.        ,  0.        ,  0.        ,  0.        ,\n",
       "        0.        ,  0.        ,  0.227451  ,  0.93725497,  0.89019614,\n",
       "        1.        ,  0.61960787,  0.75686282,  0.76470596,  0.80000007,\n",
       "        0.81960791,  0.83529419,  0.70588237,  0.81176478,  0.85098046,\n",
       "        0.78039223,  0.76078439,  0.82745105,  0.61960787,  0.8588236 ,\n",
       "        0.92549026,  0.84705889,  0.59215689,  0.        ,  0.        ,\n",
       "        0.        ,  0.        ,  0.        ,  0.        ,  0.        ,\n",
       "        0.26666668,  0.91372555,  0.88627458,  0.95294124,  0.54509807,\n",
       "        0.7843138 ,  0.75686282,  0.80392164,  0.82352948,  0.81568635,\n",
       "        0.70588237,  0.80392164,  0.83137262,  0.7960785 ,  0.76862752,\n",
       "        0.84705889,  0.6156863 ,  0.7019608 ,  1.        ,  0.84705889,\n",
       "        0.60784316,  0.        ,  0.        ,  0.        ,  0.        ,\n",
       "        0.        ,  0.        ,  0.        ,  0.31764707,  0.88235301,\n",
       "        0.87843144,  0.82745105,  0.5411765 ,  0.8588236 ,  0.72549021,\n",
       "        0.78823537,  0.83529419,  0.81176478,  0.77254909,  0.88627458,\n",
       "        0.83137262,  0.7843138 ,  0.74509805,  0.84313732,  0.71764708,\n",
       "        0.35294119,  1.        ,  0.82745105,  0.57647061,  0.        ,\n",
       "        0.        ,  0.        ,  0.        ,  0.        ,  0.        ,\n",
       "        0.        ,  0.35686275,  0.82352948,  0.90196085,  0.61960787,\n",
       "        0.44705886,  0.80392164,  0.73333335,  0.81568635,  0.81960791,\n",
       "        0.80784321,  0.75686282,  0.82352948,  0.82745105,  0.80000007,\n",
       "        0.76470596,  0.80000007,  0.70980394,  0.09019608,  1.        ,\n",
       "        0.83529419,  0.61960787,  0.        ,  0.        ,  0.        ,\n",
       "        0.        ,  0.        ,  0.        ,  0.        ,  0.34117648,\n",
       "        0.80392164,  0.90980399,  0.42745101,  0.64313728,  1.        ,\n",
       "        0.83921576,  0.87843144,  0.8705883 ,  0.82352948,  0.77254909,\n",
       "        0.83921576,  0.88235301,  0.8705883 ,  0.82745105,  0.86274517,\n",
       "        0.85098046,  0.        ,  0.91764712,  0.84705889,  0.66274512,\n",
       "        0.        ,  0.        ,  0.        ,  0.        ,  0.        ,\n",
       "        0.        ,  0.        ,  0.36078432,  0.83529419,  0.90980399,\n",
       "        0.57254905,  0.01960784,  0.52549022,  0.59215689,  0.63529414,\n",
       "        0.66666669,  0.71764708,  0.71372551,  0.64313728,  0.65098041,\n",
       "        0.69803923,  0.63529414,  0.61176473,  0.38431376,  0.        ,\n",
       "        0.94117653,  0.88235301,  0.82352948,  0.        ,  0.        ,\n",
       "        0.        ,  0.        ,  0.        ,  0.        ,  0.        ,\n",
       "        0.16862746,  0.64313728,  0.80784321,  0.5529412 ,  0.        ,\n",
       "        0.        ,  0.        ,  0.        ,  0.        ,  0.        ,\n",
       "        0.        ,  0.        ,  0.        ,  0.        ,  0.        ,\n",
       "        0.        ,  0.        ,  0.        ,  0.49803925,  0.49019611,\n",
       "        0.29803923,  0.        ,  0.        ,  0.        ], dtype=float32)"
      ]
     },
     "execution_count": 7,
     "metadata": {},
     "output_type": "execute_result"
    }
   ],
   "source": [
    "data.train.images[0]"
   ]
  },
  {
   "cell_type": "code",
   "execution_count": 8,
   "metadata": {},
   "outputs": [
    {
     "data": {
      "text/plain": [
       "1.0"
      ]
     },
     "execution_count": 8,
     "metadata": {},
     "output_type": "execute_result"
    }
   ],
   "source": [
    "np.max(data.train.images[0])"
   ]
  },
  {
   "cell_type": "code",
   "execution_count": 9,
   "metadata": {},
   "outputs": [
    {
     "data": {
      "text/plain": [
       "0.0"
      ]
     },
     "execution_count": 9,
     "metadata": {},
     "output_type": "execute_result"
    }
   ],
   "source": [
    "np.min(data.train.images[0])\n"
   ]
  },
  {
   "cell_type": "code",
   "execution_count": 10,
   "metadata": {},
   "outputs": [],
   "source": [
    "# Reshape training and testing image\n",
    "train_X = data.train.images.reshape(-1, 28, 28, 1)\n",
    "test_X = data.test.images.reshape(-1,28,28,1)"
   ]
  },
  {
   "cell_type": "code",
   "execution_count": 11,
   "metadata": {},
   "outputs": [
    {
     "data": {
      "text/plain": [
       "((55000, 28, 28, 1), (10000, 28, 28, 1))"
      ]
     },
     "execution_count": 11,
     "metadata": {},
     "output_type": "execute_result"
    }
   ],
   "source": [
    "train_X.shape, test_X.shape\n"
   ]
  },
  {
   "cell_type": "code",
   "execution_count": 12,
   "metadata": {},
   "outputs": [],
   "source": [
    "train_y = data.train.labels\n",
    "test_y = data.test.labels\n"
   ]
  },
  {
   "cell_type": "code",
   "execution_count": 13,
   "metadata": {},
   "outputs": [
    {
     "data": {
      "text/plain": [
       "((55000, 10), (10000, 10))"
      ]
     },
     "execution_count": 13,
     "metadata": {},
     "output_type": "execute_result"
    }
   ],
   "source": [
    "train_y.shape, test_y.shape\n"
   ]
  },
  {
   "cell_type": "code",
   "execution_count": 14,
   "metadata": {},
   "outputs": [],
   "source": [
    "training_iters = 10\n",
    "learning_rate = 0.001 \n",
    "batch_size = 100"
   ]
  },
  {
   "cell_type": "code",
   "execution_count": 15,
   "metadata": {},
   "outputs": [],
   "source": [
    "# MNIST data input (img shape: 28*28)\n",
    "n_input = 28\n",
    "\n",
    "# MNIST total classes (0-9 digits)\n",
    "n_classes = 10"
   ]
  },
  {
   "cell_type": "code",
   "execution_count": 16,
   "metadata": {},
   "outputs": [],
   "source": [
    "#both placeholders are of type float\n",
    "x = tf.placeholder(\"float\", [None, 28,28,1])\n",
    "y = tf.placeholder(\"float\", [None, n_classes])"
   ]
  },
  {
   "cell_type": "code",
   "execution_count": 17,
   "metadata": {},
   "outputs": [],
   "source": [
    "def conv2d(x, W, b, strides=1):\n",
    "    # Conv2D wrapper, with bias and relu activation\n",
    "    x = tf.nn.conv2d(x, W, strides=[1, strides, strides, 1], padding='SAME')\n",
    "    x = tf.nn.bias_add(x, b)\n",
    "    return tf.nn.relu(x) \n",
    "\n",
    "def maxpool2d(x, k=2):\n",
    "    return tf.nn.max_pool(x, ksize=[1, k, k, 1], strides=[1, k, k, 1],padding='SAME')"
   ]
  },
  {
   "cell_type": "code",
   "execution_count": 18,
   "metadata": {},
   "outputs": [],
   "source": [
    "weights = {\n",
    "    'wc1': tf.get_variable('W0', shape=(3,3,1,32), initializer=tf.contrib.layers.xavier_initializer()), \n",
    "    'wc2': tf.get_variable('W1', shape=(3,3,32,64), initializer=tf.contrib.layers.xavier_initializer()), \n",
    "    'wc3': tf.get_variable('W2', shape=(3,3,64,128), initializer=tf.contrib.layers.xavier_initializer()), \n",
    "    'wd1': tf.get_variable('W3', shape=(4*4*128,128), initializer=tf.contrib.layers.xavier_initializer()), \n",
    "    'out': tf.get_variable('W6', shape=(128,n_classes), initializer=tf.contrib.layers.xavier_initializer()), \n",
    "}\n",
    "biases = {\n",
    "    'bc1': tf.get_variable('B0', shape=(32), initializer=tf.contrib.layers.xavier_initializer()),\n",
    "    'bc2': tf.get_variable('B1', shape=(64), initializer=tf.contrib.layers.xavier_initializer()),\n",
    "    'bc3': tf.get_variable('B2', shape=(128), initializer=tf.contrib.layers.xavier_initializer()),\n",
    "    'bd1': tf.get_variable('B3', shape=(128), initializer=tf.contrib.layers.xavier_initializer()),\n",
    "    'out': tf.get_variable('B4', shape=(10), initializer=tf.contrib.layers.xavier_initializer()),\n",
    "}"
   ]
  },
  {
   "cell_type": "code",
   "execution_count": 19,
   "metadata": {},
   "outputs": [],
   "source": [
    "def conv_net(x, weights, biases):  \n",
    "\n",
    "    # here we call the conv2d function we had defined above and pass the input image x, weights wc1 and bias bc1.\n",
    "    conv1 = conv2d(x, weights['wc1'], biases['bc1'])\n",
    "    # Max Pooling (down-sampling), this chooses the max value from a 2*2 matrix window and outputs a 14*14 matrix.\n",
    "    conv1 = maxpool2d(conv1, k=2)\n",
    "\n",
    "    # Convolution Layer\n",
    "    # here we call the conv2d function we had defined above and pass the input image x, weights wc2 and bias bc2.\n",
    "    conv2 = conv2d(conv1, weights['wc2'], biases['bc2'])\n",
    "    # Max Pooling (down-sampling), this chooses the max value from a 2*2 matrix window and outputs a 7*7 matrix.\n",
    "    conv2 = maxpool2d(conv2, k=2)\n",
    "\n",
    "    conv3 = conv2d(conv2, weights['wc3'], biases['bc3'])\n",
    "    # Max Pooling (down-sampling), this chooses the max value from a 2*2 matrix window and outputs a 4*4.\n",
    "    conv3 = maxpool2d(conv3, k=2)\n",
    "\n",
    "\n",
    "    # Fully connected layer\n",
    "    # Reshape conv2 output to fit fully connected layer input\n",
    "    fc1 = tf.reshape(conv3, [-1, weights['wd1'].get_shape().as_list()[0]])\n",
    "    fc1 = tf.add(tf.matmul(fc1, weights['wd1']), biases['bd1'])\n",
    "    fc1 = tf.nn.relu(fc1)\n",
    "    # Output, class prediction\n",
    "    # finally we multiply the fully connected layer with the weights and add a bias term. \n",
    "    out = tf.add(tf.matmul(fc1, weights['out']), biases['out'])\n",
    "    return out\n"
   ]
  },
  {
   "cell_type": "code",
   "execution_count": 21,
   "metadata": {},
   "outputs": [],
   "source": [
    "pred = conv_net(x, weights, biases)\n",
    "\n",
    "cost = tf.reduce_mean(tf.nn.softmax_cross_entropy_with_logits(logits=pred, labels=y))\n",
    "\n",
    "optimizer = tf.train.AdamOptimizer(learning_rate=learning_rate).minimize(cost)"
   ]
  },
  {
   "cell_type": "code",
   "execution_count": 22,
   "metadata": {},
   "outputs": [],
   "source": [
    "#Here you check whether the index of the maximum value of the predicted image is equal to the actual labelled image. and both will be a column vector.\n",
    "correct_prediction = tf.equal(tf.argmax(pred, 1), tf.argmax(y, 1))\n",
    "\n",
    "#calculate accuracy across all the given images and average them out. \n",
    "accuracy = tf.reduce_mean(tf.cast(correct_prediction, tf.float32))\n"
   ]
  },
  {
   "cell_type": "code",
   "execution_count": 23,
   "metadata": {},
   "outputs": [],
   "source": [
    "# Initializing the variables\n",
    "init = tf.global_variables_initializer()"
   ]
  },
  {
   "cell_type": "code",
   "execution_count": 24,
   "metadata": {},
   "outputs": [
    {
     "name": "stdout",
     "output_type": "stream",
     "text": [
      "Iter 0, Loss= 0.349414, Training Accuracy= 0.88000\n",
      "Optimization Finished!\n",
      "Testing Accuracy: 0.84600\n",
      "Iter 1, Loss= 0.252094, Training Accuracy= 0.91000\n",
      "Optimization Finished!\n",
      "Testing Accuracy: 0.87070\n",
      "Iter 2, Loss= 0.197121, Training Accuracy= 0.94000\n",
      "Optimization Finished!\n",
      "Testing Accuracy: 0.88720\n",
      "Iter 3, Loss= 0.178035, Training Accuracy= 0.94000\n",
      "Optimization Finished!\n",
      "Testing Accuracy: 0.89340\n",
      "Iter 4, Loss= 0.171347, Training Accuracy= 0.94000\n",
      "Optimization Finished!\n",
      "Testing Accuracy: 0.89740\n",
      "Iter 5, Loss= 0.158559, Training Accuracy= 0.94000\n",
      "Optimization Finished!\n",
      "Testing Accuracy: 0.89700\n",
      "Iter 6, Loss= 0.160680, Training Accuracy= 0.95000\n",
      "Optimization Finished!\n",
      "Testing Accuracy: 0.90020\n",
      "Iter 7, Loss= 0.133623, Training Accuracy= 0.96000\n",
      "Optimization Finished!\n",
      "Testing Accuracy: 0.90540\n",
      "Iter 8, Loss= 0.133286, Training Accuracy= 0.93000\n",
      "Optimization Finished!\n",
      "Testing Accuracy: 0.90140\n",
      "Iter 9, Loss= 0.098865, Training Accuracy= 0.94000\n",
      "Optimization Finished!\n",
      "Testing Accuracy: 0.89930\n"
     ]
    }
   ],
   "source": [
    "with tf.Session() as sess:\n",
    "    sess.run(init) \n",
    "    train_loss = []\n",
    "    test_loss = []\n",
    "    train_accuracy = []\n",
    "    test_accuracy = []\n",
    "    summary_writer = tf.summary.FileWriter('./Output', sess.graph)\n",
    "    for i in range(training_iters):\n",
    "        for batch in range(len(train_X)//batch_size):\n",
    "            batch_x = train_X[batch*batch_size:min((batch+1)*batch_size,len(train_X))]\n",
    "            batch_y = train_y[batch*batch_size:min((batch+1)*batch_size,len(train_y))]    \n",
    "            # Run optimization op (backprop).\n",
    "                # Calculate batch loss and accuracy\n",
    "            opt = sess.run(optimizer, feed_dict={x: batch_x,\n",
    "                                                              y: batch_y})\n",
    "            loss, acc = sess.run([cost, accuracy], feed_dict={x: batch_x,\n",
    "                                                              y: batch_y})\n",
    "        print(\"Iter \" + str(i) + \", Loss= \" + \\\n",
    "                      \"{:.6f}\".format(loss) + \", Training Accuracy= \" + \\\n",
    "                      \"{:.5f}\".format(acc))\n",
    "        print(\"Optimization Finished!\")\n",
    "\n",
    "        # Calculate accuracy for all 10000 mnist test images\n",
    "        test_acc,valid_loss = sess.run([accuracy,cost], feed_dict={x: test_X,y : test_y})\n",
    "        train_loss.append(loss)\n",
    "        test_loss.append(valid_loss)\n",
    "        train_accuracy.append(acc)\n",
    "        test_accuracy.append(test_acc)\n",
    "        print(\"Testing Accuracy:\",\"{:.5f}\".format(test_acc))\n",
    "    summary_writer.close()"
   ]
  },
  {
   "cell_type": "code",
   "execution_count": 25,
   "metadata": {},
   "outputs": [
    {
     "data": {
      "image/png": "[encoded data removed]",
      "text/plain": [
       "<matplotlib.figure.Figure at 0x7f18a6906be0>"
      ]
     },
     "metadata": {},
     "output_type": "display_data"
    },
    {
     "data": {
      "text/plain": [
       "<matplotlib.figure.Figure at 0x7f18a402fdd8>"
      ]
     },
     "metadata": {},
     "output_type": "display_data"
    }
   ],
   "source": [
    "plt.plot(range(len(train_loss)), train_loss, 'b', label='Training loss')\n",
    "plt.plot(range(len(train_loss)), test_loss, 'r', label='Test loss')\n",
    "plt.title('Training and Test loss')\n",
    "plt.xlabel('Epochs ',fontsize=16)\n",
    "plt.ylabel('Loss',fontsize=16)\n",
    "plt.legend()\n",
    "plt.figure()\n",
    "plt.show()"
   ]
  },
  {
   "cell_type": "code",
   "execution_count": 26,
   "metadata": {},
   "outputs": [
    {
     "data": {
      "image/png": "[encoded data removed]",
      "text/plain": [
       "<matplotlib.figure.Figure at 0x7f18a40def60>"
      ]
     },
     "metadata": {},
     "output_type": "display_data"
    },
    {
     "data": {
      "text/plain": [
       "<matplotlib.figure.Figure at 0x7f18a3fa4438>"
      ]
     },
     "metadata": {},
     "output_type": "display_data"
    }
   ],
   "source": [
    "plt.plot(range(len(train_loss)), train_accuracy, 'b', label='Training Accuracy')\n",
    "plt.plot(range(len(train_loss)), test_accuracy, 'r', label='Test Accuracy')\n",
    "plt.title('Training and Test Accuracy')\n",
    "plt.xlabel('Epochs ',fontsize=16)\n",
    "plt.ylabel('Loss',fontsize=16)\n",
    "plt.legend()\n",
    "plt.figure()\n",
    "plt.show()\n"
   ]
  },
  {
   "cell_type": "code",
   "execution_count": null,
   "metadata": {},
   "outputs": [],
   "source": [
    "#for    2 hr lon on cpu itar-40 , batch-64\n",
    "#for best -200 ,128"
   ]
  }
 ],
 "metadata": {
  "kernelspec": {
   "display_name": "Python 3",
   "language": "python",
   "name": "python3"
  },
  "language_info": {
   "codemirror_mode": {
    "name": "ipython",
    "version": 3
   },
   "file_extension": ".py",
   "mimetype": "text/x-python",
   "name": "python",
   "nbconvert_exporter": "python",
   "pygments_lexer": "ipython3",
   "version": "3.6.2"
  }
 },
 "nbformat": 4,
 "nbformat_minor": 2
}
